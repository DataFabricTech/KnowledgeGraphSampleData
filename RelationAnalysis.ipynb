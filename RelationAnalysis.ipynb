{
 "cells": [
  {
   "cell_type": "code",
   "execution_count": 1,
   "id": "fe2e50a6-6bfa-4f73-97a3-f101f36e1fc2",
   "metadata": {},
   "outputs": [],
   "source": [
    "import pandas as pd\n"
   ]
  },
  {
   "cell_type": "code",
   "execution_count": 11,
   "id": "c3e053de-08d1-40f7-8928-d05d3526822a",
   "metadata": {},
   "outputs": [
    {
     "data": {
      "text/html": [
       "<div>\n",
       "<style scoped>\n",
       "    .dataframe tbody tr th:only-of-type {\n",
       "        vertical-align: middle;\n",
       "    }\n",
       "\n",
       "    .dataframe tbody tr th {\n",
       "        vertical-align: top;\n",
       "    }\n",
       "\n",
       "    .dataframe thead th {\n",
       "        text-align: right;\n",
       "    }\n",
       "</style>\n",
       "<table border=\"1\" class=\"dataframe\">\n",
       "  <thead>\n",
       "    <tr style=\"text-align: right;\">\n",
       "      <th></th>\n",
       "      <th>Date</th>\n",
       "      <th>OA</th>\n",
       "      <th>OB</th>\n",
       "      <th>DA</th>\n",
       "      <th>DB</th>\n",
       "      <th>population</th>\n",
       "    </tr>\n",
       "  </thead>\n",
       "  <tbody>\n",
       "    <tr>\n",
       "      <th>0</th>\n",
       "      <td>20230920</td>\n",
       "      <td>성동구</td>\n",
       "      <td>성수2가1동</td>\n",
       "      <td>은평구</td>\n",
       "      <td>대조동</td>\n",
       "      <td>3</td>\n",
       "    </tr>\n",
       "    <tr>\n",
       "      <th>1</th>\n",
       "      <td>20230920</td>\n",
       "      <td>성동구</td>\n",
       "      <td>성수2가1동</td>\n",
       "      <td>은평구</td>\n",
       "      <td>불광1동</td>\n",
       "      <td>2</td>\n",
       "    </tr>\n",
       "    <tr>\n",
       "      <th>2</th>\n",
       "      <td>20230920</td>\n",
       "      <td>성동구</td>\n",
       "      <td>성수2가1동</td>\n",
       "      <td>은평구</td>\n",
       "      <td>불광2동</td>\n",
       "      <td>1</td>\n",
       "    </tr>\n",
       "    <tr>\n",
       "      <th>3</th>\n",
       "      <td>20230920</td>\n",
       "      <td>성동구</td>\n",
       "      <td>성수2가1동</td>\n",
       "      <td>은평구</td>\n",
       "      <td>수색동</td>\n",
       "      <td>2</td>\n",
       "    </tr>\n",
       "    <tr>\n",
       "      <th>4</th>\n",
       "      <td>20230920</td>\n",
       "      <td>성동구</td>\n",
       "      <td>성수2가1동</td>\n",
       "      <td>은평구</td>\n",
       "      <td>신사1동</td>\n",
       "      <td>3</td>\n",
       "    </tr>\n",
       "  </tbody>\n",
       "</table>\n",
       "</div>"
      ],
      "text/plain": [
       "       Date   OA      OB   DA    DB  population\n",
       "0  20230920  성동구  성수2가1동  은평구   대조동           3\n",
       "1  20230920  성동구  성수2가1동  은평구  불광1동           2\n",
       "2  20230920  성동구  성수2가1동  은평구  불광2동           1\n",
       "3  20230920  성동구  성수2가1동  은평구   수색동           2\n",
       "4  20230920  성동구  성수2가1동  은평구  신사1동           3"
      ]
     },
     "execution_count": 11,
     "metadata": {},
     "output_type": "execute_result"
    }
   ],
   "source": [
    "data = pd.read_csv('TPSS_region_OD3.csv', encoding='cp949', sep=\",\")\n",
    "data.head()"
   ]
  },
  {
   "cell_type": "code",
   "execution_count": 13,
   "id": "d9c80d38-3521-4167-a1a2-62e636f7ae35",
   "metadata": {
    "tags": []
   },
   "outputs": [
    {
     "data": {
      "text/plain": [
       "array(['성동구', '성북구', '송파구', '수원시영통구', '시흥시', '안산시상록구', '안양시동안구', '안양시만안구',\n",
       "       '양주시', '양천구', '양평군', '연수구', '영등포구', '용산구', '용인시기흥구', '용인시수지구',\n",
       "       '용인시처인구', '은평구', '의정부시', '종로구', '중구', '중랑구', '파주시', '성남시분당구',\n",
       "       '성남시수정구', '성남시중원구', '수원시장안구', '여주시', '하남시', '수원시팔달구', '안산시단원구',\n",
       "       '이천시', '서초구', '평택시', '화성시', '영통구', '의왕시', '오산시', '수원시권선구', '강동구',\n",
       "       '강북구', '강서구', '고양시덕양구', '고양시일산동구', '고양시일산서구', '과천시', '관악구', '광명시',\n",
       "       '광주시', '광진구', '구로구', '구리시', '군포시', '금천구', '김포시', '남구', '남양주시',\n",
       "       '노원구', '도봉구', '동대문구', '동두천시', '동작구', '강남구', '마포구', '남동구', '부천시',\n",
       "       '가평군', '부평구', '서구', '서대문구', '계양구', '서울시외', '동구'], dtype=object)"
      ]
     },
     "execution_count": 13,
     "metadata": {},
     "output_type": "execute_result"
    }
   ],
   "source": [
    "data['OA'].unique()"
   ]
  },
  {
   "cell_type": "code",
   "execution_count": 15,
   "id": "e4a71746-29eb-40c2-ba25-cdee23f8fe8f",
   "metadata": {
    "tags": []
   },
   "outputs": [
    {
     "data": {
      "text/plain": [
       "array(['은평구', '의정부시', '종로구', '중구', '중랑구', '파주시', '하남시', '가평군', '강남구',\n",
       "       '강동구', '강북구', '강서구', '계양구', '고양시덕양구', '서울시외', '서초구', '성남시분당구',\n",
       "       '성남시수정구', '성남시중원구', '성동구', '성북구', '송파구', '수원시팔달구', '안양시동안구',\n",
       "       '안양시만안구', '양주시', '양천구', '양평군', '연수구', '영등포구', '영통구', '용산구',\n",
       "       '용인시기흥구', '용인시수지구', '구로구', '구리시', '군포시', '금천구', '김포시', '남구', '남동구',\n",
       "       '남양주시', '노원구', '도봉구', '동구', '동대문구', '동두천시', '동작구', '마포구', '부천시',\n",
       "       '부평구', '서구', '서대문구', '고양시일산동구', '고양시일산서구', '과천시', '관악구', '광명시',\n",
       "       '광주시', '광진구', '시흥시', '안산시단원구', '안산시상록구', '화성시', '수원시권선구', '수원시영통구',\n",
       "       '수원시장안구', '여주시', '오산시', '용인시처인구', '이천시', '의왕시', '평택시'],\n",
       "      dtype=object)"
      ]
     },
     "execution_count": 15,
     "metadata": {},
     "output_type": "execute_result"
    }
   ],
   "source": [
    "data['DA'].unique()"
   ]
  },
  {
   "cell_type": "code",
   "execution_count": 45,
   "id": "f1042271-a6ff-46bf-9a5e-e0693bdb0b85",
   "metadata": {
    "tags": []
   },
   "outputs": [],
   "source": [
    "filterdDf =data[(data['OB']!=data['DB'])&(data['Date']==20230920)&(data['population']>100)].sort_values('population', ascending= False)\n",
    "\n",
    "output =filterdDf.loc[:,['OB','DB','population']]\n",
    "\n",
    "# A에서 B로 이동하는 데이터 복사\n",
    "output1 = output.copy()\n",
    "\n",
    "# 열 이름 바꾸기\n",
    "# df1.columns = ['Location_1', 'Location_2', 'Value']\n",
    "\n",
    "# B에서 A로 이동하는 데이터 복사\n",
    "output2 = output.copy()\n",
    "\n",
    "# 열 이름 바꾸기\n",
    "output2.columns = ['DB', 'OB', 'population']"
   ]
  },
  {
   "cell_type": "code",
   "execution_count": 48,
   "id": "b6f2782b-1b36-4950-b156-c602b8905551",
   "metadata": {
    "tags": []
   },
   "outputs": [
    {
     "data": {
      "text/plain": [
       "5990"
      ]
     },
     "execution_count": 48,
     "metadata": {},
     "output_type": "execute_result"
    }
   ],
   "source": [
    "# Score 계산\n",
    "\n",
    "output['similarity'] = output['population']/output.max()['population']"
   ]
  },
  {
   "cell_type": "code",
   "execution_count": 92,
   "id": "3fa7745e-551f-47c5-b4ce-ce6945e6a11e",
   "metadata": {
    "tags": []
   },
   "outputs": [],
   "source": [
    "# A에서 B로 이동하는 데이터 복사\n",
    "output1 = output.copy()\n",
    "\n",
    "# B에서 A로 이동하는 데이터 복사\n",
    "output2 = output.copy()\n",
    "\n",
    "# 열 이름 바꾸기\n",
    "output2.columns = ['DB', 'OB', 'population']\n",
    "\n",
    "# 두 데이터프레임 병합\n",
    "merged_df = pd.concat([output1, output2])\n",
    "\n",
    "# 동일한 출발지와 도착지를 가진 데이터 합치기\n",
    "result_df = merged_df.groupby(['DB', 'OB']).sum().reset_index()\n",
    "\n",
    "# (Location_1=지역1 & Location_2=지역3)와 (Location_1=지역3 & Location_2=지역1)을 같은 것으로 처리\n",
    "result_df['Unique_DB'] = result_df[['DB', 'OB']].min(axis=1)\n",
    "result_df['Unique_OB'] = result_df[['DB', 'OB']].max(axis=1)\n",
    "\n",
    "# 중복된 데이터 제거\n",
    "result_df = result_df.drop_duplicates(subset=['Unique_DB', 'Unique_OB'])\n",
    "\n",
    "# 불필요한 열 제거\n",
    "result_df = result_df.drop(columns=['Unique_DB', 'Unique_OB'])\n",
    "\n",
    "\n"
   ]
  },
  {
   "cell_type": "code",
   "execution_count": 102,
   "id": "437c30ec-1fa7-45c3-b501-8f8c0abf21d9",
   "metadata": {
    "tags": []
   },
   "outputs": [],
   "source": [
    "result_df['similarity'] = result_df['population']/result_df.max()['population']"
   ]
  },
  {
   "cell_type": "code",
   "execution_count": 103,
   "id": "18c26d01-10a1-4628-99b3-2f3252549d7d",
   "metadata": {
    "tags": []
   },
   "outputs": [
    {
     "data": {
      "text/html": [
       "<div>\n",
       "<style scoped>\n",
       "    .dataframe tbody tr th:only-of-type {\n",
       "        vertical-align: middle;\n",
       "    }\n",
       "\n",
       "    .dataframe tbody tr th {\n",
       "        vertical-align: top;\n",
       "    }\n",
       "\n",
       "    .dataframe thead th {\n",
       "        text-align: right;\n",
       "    }\n",
       "</style>\n",
       "<table border=\"1\" class=\"dataframe\">\n",
       "  <thead>\n",
       "    <tr style=\"text-align: right;\">\n",
       "      <th></th>\n",
       "      <th>DB</th>\n",
       "      <th>OB</th>\n",
       "      <th>population</th>\n",
       "      <th>similarity</th>\n",
       "    </tr>\n",
       "  </thead>\n",
       "  <tbody>\n",
       "    <tr>\n",
       "      <th>10730</th>\n",
       "      <td>서울시외</td>\n",
       "      <td>종로1.2.3.4가동</td>\n",
       "      <td>8704</td>\n",
       "      <td>1.000000</td>\n",
       "    </tr>\n",
       "    <tr>\n",
       "      <th>5971</th>\n",
       "      <td>명동</td>\n",
       "      <td>서교동</td>\n",
       "      <td>8271</td>\n",
       "      <td>0.950253</td>\n",
       "    </tr>\n",
       "    <tr>\n",
       "      <th>11259</th>\n",
       "      <td>서초2동</td>\n",
       "      <td>잠실6동</td>\n",
       "      <td>8085</td>\n",
       "      <td>0.928883</td>\n",
       "    </tr>\n",
       "    <tr>\n",
       "      <th>19933</th>\n",
       "      <td>종로1.2.3.4가동</td>\n",
       "      <td>회현동</td>\n",
       "      <td>8005</td>\n",
       "      <td>0.919692</td>\n",
       "    </tr>\n",
       "    <tr>\n",
       "      <th>6113</th>\n",
       "      <td>명동</td>\n",
       "      <td>회현동</td>\n",
       "      <td>7650</td>\n",
       "      <td>0.878906</td>\n",
       "    </tr>\n",
       "    <tr>\n",
       "      <th>...</th>\n",
       "      <td>...</td>\n",
       "      <td>...</td>\n",
       "      <td>...</td>\n",
       "      <td>...</td>\n",
       "    </tr>\n",
       "    <tr>\n",
       "      <th>12341</th>\n",
       "      <td>성현동</td>\n",
       "      <td>신림동</td>\n",
       "      <td>101</td>\n",
       "      <td>0.011604</td>\n",
       "    </tr>\n",
       "    <tr>\n",
       "      <th>6014</th>\n",
       "      <td>명동</td>\n",
       "      <td>쌍문2동</td>\n",
       "      <td>101</td>\n",
       "      <td>0.011604</td>\n",
       "    </tr>\n",
       "    <tr>\n",
       "      <th>1603</th>\n",
       "      <td>교남동</td>\n",
       "      <td>여의동</td>\n",
       "      <td>101</td>\n",
       "      <td>0.011604</td>\n",
       "    </tr>\n",
       "    <tr>\n",
       "      <th>15603</th>\n",
       "      <td>양평2동</td>\n",
       "      <td>영등포본동</td>\n",
       "      <td>101</td>\n",
       "      <td>0.011604</td>\n",
       "    </tr>\n",
       "    <tr>\n",
       "      <th>17384</th>\n",
       "      <td>월계2동</td>\n",
       "      <td>을지로동</td>\n",
       "      <td>101</td>\n",
       "      <td>0.011604</td>\n",
       "    </tr>\n",
       "  </tbody>\n",
       "</table>\n",
       "<p>11753 rows × 4 columns</p>\n",
       "</div>"
      ],
      "text/plain": [
       "                DB           OB  population  similarity\n",
       "10730         서울시외  종로1.2.3.4가동        8704    1.000000\n",
       "5971            명동          서교동        8271    0.950253\n",
       "11259         서초2동         잠실6동        8085    0.928883\n",
       "19933  종로1.2.3.4가동          회현동        8005    0.919692\n",
       "6113            명동          회현동        7650    0.878906\n",
       "...            ...          ...         ...         ...\n",
       "12341          성현동          신림동         101    0.011604\n",
       "6014            명동         쌍문2동         101    0.011604\n",
       "1603           교남동          여의동         101    0.011604\n",
       "15603         양평2동        영등포본동         101    0.011604\n",
       "17384         월계2동         을지로동         101    0.011604\n",
       "\n",
       "[11753 rows x 4 columns]"
      ]
     },
     "execution_count": 103,
     "metadata": {},
     "output_type": "execute_result"
    }
   ],
   "source": [
    "result_df.sort_values('similarity', ascending= False)"
   ]
  },
  {
   "cell_type": "code",
   "execution_count": 106,
   "id": "6b79df6d-f9d8-4f0a-82cf-275adbc8b55b",
   "metadata": {
    "tags": []
   },
   "outputs": [],
   "source": [
    "output =result_df.loc[:,['OB','DB','similarity']].sort_values('similarity', ascending= False).reset_index()"
   ]
  },
  {
   "cell_type": "code",
   "execution_count": 108,
   "id": "acd927db-bd58-4205-9cad-392e33f01b9d",
   "metadata": {
    "tags": []
   },
   "outputs": [],
   "source": [
    "output.to_csv('sample3.csv')"
   ]
  },
  {
   "cell_type": "code",
   "execution_count": 107,
   "id": "8a1aff95-56fa-498e-9e26-78badc87c8e8",
   "metadata": {
    "tags": []
   },
   "outputs": [
    {
     "data": {
      "text/html": [
       "<div>\n",
       "<style scoped>\n",
       "    .dataframe tbody tr th:only-of-type {\n",
       "        vertical-align: middle;\n",
       "    }\n",
       "\n",
       "    .dataframe tbody tr th {\n",
       "        vertical-align: top;\n",
       "    }\n",
       "\n",
       "    .dataframe thead th {\n",
       "        text-align: right;\n",
       "    }\n",
       "</style>\n",
       "<table border=\"1\" class=\"dataframe\">\n",
       "  <thead>\n",
       "    <tr style=\"text-align: right;\">\n",
       "      <th></th>\n",
       "      <th>index</th>\n",
       "      <th>OB</th>\n",
       "      <th>DB</th>\n",
       "      <th>similarity</th>\n",
       "    </tr>\n",
       "  </thead>\n",
       "  <tbody>\n",
       "    <tr>\n",
       "      <th>0</th>\n",
       "      <td>10730</td>\n",
       "      <td>종로1.2.3.4가동</td>\n",
       "      <td>서울시외</td>\n",
       "      <td>1.000000</td>\n",
       "    </tr>\n",
       "    <tr>\n",
       "      <th>1</th>\n",
       "      <td>5971</td>\n",
       "      <td>서교동</td>\n",
       "      <td>명동</td>\n",
       "      <td>0.950253</td>\n",
       "    </tr>\n",
       "    <tr>\n",
       "      <th>2</th>\n",
       "      <td>11259</td>\n",
       "      <td>잠실6동</td>\n",
       "      <td>서초2동</td>\n",
       "      <td>0.928883</td>\n",
       "    </tr>\n",
       "    <tr>\n",
       "      <th>3</th>\n",
       "      <td>19933</td>\n",
       "      <td>회현동</td>\n",
       "      <td>종로1.2.3.4가동</td>\n",
       "      <td>0.919692</td>\n",
       "    </tr>\n",
       "    <tr>\n",
       "      <th>4</th>\n",
       "      <td>6113</td>\n",
       "      <td>회현동</td>\n",
       "      <td>명동</td>\n",
       "      <td>0.878906</td>\n",
       "    </tr>\n",
       "    <tr>\n",
       "      <th>...</th>\n",
       "      <td>...</td>\n",
       "      <td>...</td>\n",
       "      <td>...</td>\n",
       "      <td>...</td>\n",
       "    </tr>\n",
       "    <tr>\n",
       "      <th>11748</th>\n",
       "      <td>12341</td>\n",
       "      <td>신림동</td>\n",
       "      <td>성현동</td>\n",
       "      <td>0.011604</td>\n",
       "    </tr>\n",
       "    <tr>\n",
       "      <th>11749</th>\n",
       "      <td>6014</td>\n",
       "      <td>쌍문2동</td>\n",
       "      <td>명동</td>\n",
       "      <td>0.011604</td>\n",
       "    </tr>\n",
       "    <tr>\n",
       "      <th>11750</th>\n",
       "      <td>1603</td>\n",
       "      <td>여의동</td>\n",
       "      <td>교남동</td>\n",
       "      <td>0.011604</td>\n",
       "    </tr>\n",
       "    <tr>\n",
       "      <th>11751</th>\n",
       "      <td>15603</td>\n",
       "      <td>영등포본동</td>\n",
       "      <td>양평2동</td>\n",
       "      <td>0.011604</td>\n",
       "    </tr>\n",
       "    <tr>\n",
       "      <th>11752</th>\n",
       "      <td>17384</td>\n",
       "      <td>을지로동</td>\n",
       "      <td>월계2동</td>\n",
       "      <td>0.011604</td>\n",
       "    </tr>\n",
       "  </tbody>\n",
       "</table>\n",
       "<p>11753 rows × 4 columns</p>\n",
       "</div>"
      ],
      "text/plain": [
       "       index           OB           DB  similarity\n",
       "0      10730  종로1.2.3.4가동         서울시외    1.000000\n",
       "1       5971          서교동           명동    0.950253\n",
       "2      11259         잠실6동         서초2동    0.928883\n",
       "3      19933          회현동  종로1.2.3.4가동    0.919692\n",
       "4       6113          회현동           명동    0.878906\n",
       "...      ...          ...          ...         ...\n",
       "11748  12341          신림동          성현동    0.011604\n",
       "11749   6014         쌍문2동           명동    0.011604\n",
       "11750   1603          여의동          교남동    0.011604\n",
       "11751  15603        영등포본동         양평2동    0.011604\n",
       "11752  17384         을지로동         월계2동    0.011604\n",
       "\n",
       "[11753 rows x 4 columns]"
      ]
     },
     "execution_count": 107,
     "metadata": {},
     "output_type": "execute_result"
    }
   ],
   "source": [
    "output"
   ]
  }
 ],
 "metadata": {
  "kernelspec": {
   "display_name": "Python 3 (ipykernel)",
   "language": "python",
   "name": "python3"
  },
  "language_info": {
   "codemirror_mode": {
    "name": "ipython",
    "version": 3
   },
   "file_extension": ".py",
   "mimetype": "text/x-python",
   "name": "python",
   "nbconvert_exporter": "python",
   "pygments_lexer": "ipython3",
   "version": "3.11.5"
  }
 },
 "nbformat": 4,
 "nbformat_minor": 5
}
