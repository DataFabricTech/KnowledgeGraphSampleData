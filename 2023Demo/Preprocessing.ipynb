{
 "cells": [
  {
   "cell_type": "code",
   "execution_count": null,
   "id": "a3a1df6e-e159-4593-b82d-d0febf4dd723",
   "metadata": {},
   "outputs": [],
   "source": [
    "# 라이브러리 호출\n",
    "import numpy as np\n",
    "import pandas as pd\n",
    "from datetime import datetime"
   ]
  },
  {
   "cell_type": "code",
   "execution_count": null,
   "id": "1625dd6c-77de-4188-bd71-2d5fbdf52f3b",
   "metadata": {},
   "outputs": [],
   "source": [
    "# 데이터 불러오기\n",
    "rawData = pd.read_csv('TPSS_region_OD3.csv', encoding='cp949', sep=\",\")\n",
    "rawData.head(30)"
   ]
  },
  {
   "cell_type": "code",
   "execution_count": null,
   "id": "2567af4b-56df-4303-baaf-5e7a003ec556",
   "metadata": {},
   "outputs": [],
   "source": [
    "# OB 와 DB 가 같은 지역 제거\n",
    "# 날짜는 20230920 인 경우만으로 필터링\n",
    "# population 이 적어도 100 이 넘는 지역만\n",
    "# population 의 내림차순으로 정렬하기.\n",
    "\n",
    "filterdDf =rawData[(rawData['OB']!=rawData['DB'])&(rawData['Date']==20230920)&(rawData['population']>100)].sort_values('population', ascending= False)"
   ]
  },
  {
   "cell_type": "code",
   "execution_count": null,
   "id": "70a2487d-3a52-49ed-a9cb-b740eae635dc",
   "metadata": {},
   "outputs": [],
   "source": [
    "filterdDf =filterdDf.loc[:,['OB','DB','population']]"
   ]
  },
  {
   "cell_type": "code",
   "execution_count": null,
   "id": "604d3b75-5091-42b8-acb9-3d8e4d8f3a22",
   "metadata": {},
   "outputs": [],
   "source": [
    "# A에서 B로 이동하는 데이터 복사\n",
    "output1 = filterdDf.copy()\n",
    "\n",
    "# B에서 A로 이동하는 데이터 복사\n",
    "output2 = filterdDf.copy()\n",
    "# 열 이름 바꾸기\n",
    "output2.columns = ['DB', 'OB', 'population']\n",
    "\n",
    "# 두 데이터프레임 병합\n",
    "merged_df = pd.concat([output1, output2])\n",
    "\n",
    "# # Location_1 및 Location_2 열의 값을 ID로 바꾸기\n",
    "# merged_df['DB'] = merged_df['DB'].map(region_id_mapping)\n",
    "# merged_df['OB'] = merged_df['OB'].map(region_id_mapping)\n",
    "\n",
    "# 동일한 출발지와 도착지를 가진 데이터 합치기\n",
    "result_df = merged_df.groupby(['DB', 'OB']).sum().reset_index()\n",
    "\n",
    "# (Location_1=지역1 & Location_2=지역3)와 (Location_1=지역3 & Location_2=지역1)을 같은 것으로 처리\n",
    "result_df['Unique_DB'] = result_df[['DB', 'OB']].min(axis=1)\n",
    "result_df['Unique_OB'] = result_df[['DB', 'OB']].max(axis=1)\n",
    "\n",
    "# 중복된 데이터 제거\n",
    "result_df = result_df.drop_duplicates(subset=['Unique_DB', 'Unique_OB'])\n",
    "\n",
    "# 불필요한 열 제거\n",
    "result_df = result_df.drop(columns=['Unique_DB', 'Unique_OB'])\n"
   ]
  },
  {
   "cell_type": "code",
   "execution_count": null,
   "id": "b66b9aa0-dba7-4d40-ad8d-123d1e23a8fa",
   "metadata": {},
   "outputs": [],
   "source": []
  },
  {
   "cell_type": "code",
   "execution_count": null,
   "id": "2fa314da-4550-4309-bf22-2657912e77d6",
   "metadata": {},
   "outputs": [],
   "source": []
  },
  {
   "cell_type": "code",
   "execution_count": null,
   "id": "a6cbfe29-53b7-45ba-8b36-f030ce428ee9",
   "metadata": {},
   "outputs": [],
   "source": []
  },
  {
   "cell_type": "code",
   "execution_count": null,
   "id": "91c36fbc-52bd-4701-811b-9c804a2177a4",
   "metadata": {},
   "outputs": [],
   "source": []
  },
  {
   "cell_type": "code",
   "execution_count": null,
   "id": "bbbf9d34-2122-4cb2-9bd4-d0432f8b8c63",
   "metadata": {},
   "outputs": [],
   "source": []
  },
  {
   "cell_type": "code",
   "execution_count": null,
   "id": "f0ca5ec4-5335-49a2-af20-9c07238c024b",
   "metadata": {},
   "outputs": [],
   "source": []
  }
 ],
 "metadata": {
  "kernelspec": {
   "display_name": "Python 3 (ipykernel)",
   "language": "python",
   "name": "python3"
  },
  "language_info": {
   "codemirror_mode": {
    "name": "ipython",
    "version": 3
   },
   "file_extension": ".py",
   "mimetype": "text/x-python",
   "name": "python",
   "nbconvert_exporter": "python",
   "pygments_lexer": "ipython3",
   "version": "3.11.5"
  }
 },
 "nbformat": 4,
 "nbformat_minor": 5
}
